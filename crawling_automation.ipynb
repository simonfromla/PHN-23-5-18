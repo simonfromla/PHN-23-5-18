{
 "cells": [
  {
   "cell_type": "markdown",
   "metadata": {},
   "source": [
    "# 🐍🐍🐍🐍  Python Hack Night   🐍🐍🐍🐍\n"
   ]
  },
  {
   "cell_type": "markdown",
   "metadata": {},
   "source": [
    "\n",
    "## 👩‍🎤 Introduce yourself 👨‍🎤 or show off a project!"
   ]
  },
  {
   "cell_type": "markdown",
   "metadata": {},
   "source": [
    "*\"Some ideas\"*\n",
    "* Why are you here?  \n",
    "* What programming/development did you do in the past week?  \n",
    "* Something non-programming related that you did in the past week  \n",
    "* What are you interested in learning?  \n",
    "* Anything else you'd like to share  \n",
    "\n"
   ]
  },
  {
   "cell_type": "markdown",
   "metadata": {},
   "source": [
    "## 🤖 Automation 🤖\n",
    "---\n",
    "### _Defining automation_ 🌮:"
   ]
  },
  {
   "cell_type": "code",
   "execution_count": null,
   "metadata": {
    "collapsed": true
   },
   "outputs": [],
   "source": [
    "from urllib.request import Request, urlopen\n",
    "import re\n",
    "\n",
    "req = Request('https://www.google.com/search?q=define+automation&pws=0&gl=us&gws_rd=cr', headers={'User-Agent': 'Mozilla/5.0'})\n",
    "webpage = urlopen(req).read().decode('utf-8')\n",
    "print(\"🔍🔎🔍🔎🔍\", webpage, \"🔍🔎🔍🔎🔍\\n\\n\\n\\n\")  \n",
    "\n",
    "regex = re.compile(r'<span class=\"st\">(.*?)</span>')\n",
    "definition = regex.search(webpage).group(1)\n",
    "print(\"🏀🏀🏀\", definition, \"🏀🏀🏀\")"
   ]
  },
  {
   "cell_type": "markdown",
   "metadata": {},
   "source": [
    "### _What can it do?_ 🤔  \n",
    "\n",
    "* Parse lengthy files for patterns using regular expressions  \n",
    "* Open, read, write, to any kind of file(Excel, Word Docs, PDF, CSV, JSON) and make decisions based on file content  \n",
    "* Automate organizing and editing(copying, renaming, moving, compressing) hundreds or thousands of files  \n",
    "* Automate internet-related tasks like logging in, filling forms, parsing and downloading webpages  \n",
    "* Schedule and execute time-bound tasks  "
   ]
  },
  {
   "cell_type": "markdown",
   "metadata": {},
   "source": [
    "### Automation with Python  \n",
    "\n",
    "https://sqa.stackexchange.com/questions/16269/are-there-gui-test-tool-better-than-selenium/16273#16273  \n"
   ]
  },
  {
   "cell_type": "markdown",
   "metadata": {},
   "source": [
    "### What are we building?\n",
    "\n",
    "_sh👀w em what theyre building _"
   ]
  },
  {
   "cell_type": "markdown",
   "metadata": {},
   "source": [
    "### For your reference  \n",
    "\n",
    "👻Friendly docs with examples, Incomplete:  \n",
    "http://selenium-python.readthedocs.io/  \n",
    "\n",
    "😡Unfriendly docs, no examples, Complete:  \n",
    "https://seleniumhq.github.io/selenium/docs/api/py/api.html  \n",
    "\n",
    "🍜🍲Beautifulsoup4 Docs🍵  \n",
    "https://www.crummy.com/software/BeautifulSoup/bs4/doc/"
   ]
  },
  {
   "cell_type": "markdown",
   "metadata": {},
   "source": [
    "## Set 🆙\n",
    "---\n",
    "###### Create a new directory for our project  \n",
    "`mkdir automation`  \n",
    "\n",
    "######  Create a virtual environment   \n",
    "\n",
    "venv: `python3 -m venv /path/to/new/virtual/environment`  \n",
    "https://docs.python.org/3/library/venv.html#creating-virtual-environments\n",
    "\n",
    "virtualenv: `virtualenv .`  \n",
    "virtualenvwrapper: `mkvirtualenv env_name`  \n",
    "\n",
    "##### Activate the virtual environment  \n",
    "virtualenv: `source bin/activate`   \n",
    "virtualenvwrapper: `workon env_name`   \n",
    "\n",
    "##### Install necessary modules  \n",
    "`pip install selenium`  \n",
    "`pip install bs4`  \n",
    "\n",
    "##### Create a python script and open it \n",
    "`touch main.py`  \n",
    "`open main.py`  \n",
    "\n",
    "\n",
    "\n",
    "```python\n",
    "\n",
    "\n",
    "\n",
    "```"
   ]
  },
  {
   "cell_type": "markdown",
   "metadata": {},
   "source": [
    "## Getting Started\n",
    "---\n",
    "\n",
    "#### If using Firefox  \n",
    "```python\n",
    "from selenium import webdriver\n",
    "\n",
    "# Firefox\n",
    "driver = webdriver.Firefox()\n",
    "driver.get(\"http://google.com\")\n",
    "```\n",
    "_geckodriver for firefox_   \n",
    "**Download here:** https://github.com/mozilla/geckodriver/releases   \n",
    "**Troubleshooting:**  \n",
    "https://stackoverflow.com/a/40208762/5788582\n",
    "\n",
    "\n",
    "\n",
    "#### If using Chrome\n",
    "```python\n",
    "from selenium import webdriver\n",
    "\n",
    "# Chrome  \n",
    "# options = webdriver.ChromeOptions()\n",
    "# options.binary_location = \"/Applications/GoogleChrome.app/Contents/MacOS/Google Chrome\"\n",
    "chromedriver = \"/Users/sjung/Downloads/chromedriver\"\n",
    "driver = webdriver.Chrome(chromedriver)\n",
    "# driver = webdriver.Chrome(chromedriver, chrome_options=options)\n",
    "driver.get(\"http://google.com\")\n",
    "\n",
    "```\n",
    "_chromedriver for chrome_  \n",
    "**Download here:** https://sites.google.com/a/chromium.org/chromedriver/downloads  \n",
    "**Troubleshooting:**  \n",
    "https://stackoverflow.com/questions/46026987/selenium-gives-selenium-common-exceptions-webdriverexception-message-unknown\n",
    "\n",
    "\n",
    "_Python 3.6 users on MacOS:_  \n",
    "Getting a `urllib.error.URLError: <urlopen error [SSL: CERTIFICATE_VERIFY_FAILED] certificate verify failed (_ssl.c:777)>` error related to `html = urllib.request.urlopen(url)` ?  \n",
    "https://stackoverflow.com/questions/27835619/urllib-and-ssl-certificate-verify-failed-error/42334357#42334357  \n",
    "\n",
    "\n",
    "\n"
   ]
  },
  {
   "cell_type": "markdown",
   "metadata": {},
   "source": [
    "### Before scraping, explore:  \n",
    "https://www.bandsintown.com/\n"
   ]
  },
  {
   "cell_type": "markdown",
   "metadata": {},
   "source": [
    "#### Building the URL\n",
    "\n",
    "```python\n",
    "def build_url(search_start_date, search_end_date, genre=None):\n",
    "    url = f'https://www.bandsintown.com/c/seoul-korea-republic-of?came_from=253&date={search_start_date}T14%3A00%3A00%2C{search_end_date}T02%3A00%3A00&date_filter=Next+Week&genre_filter={genre}'\n",
    "    return url\n",
    "\n",
    "\n",
    "url = build_url('2018-05-23', '2018-06-12')\n",
    "print(url)\n",
    "```"
   ]
  },
  {
   "cell_type": "markdown",
   "metadata": {},
   "source": [
    "#### Loading the page\n",
    "```python\n",
    "from selenium import webdriver\n",
    "from selenium.webdriver.support.ui import WebDriverWait\n",
    "from selenium.webdriver.support import expected_conditions as EC\n",
    "from selenium.webdriver.common.by import By\n",
    "from selenium.common.exceptions import TimeoutException\n",
    "\n",
    "\n",
    "def load_page(url):\n",
    "    # making sure the elements that we're after are loaded\n",
    "    # don't want to extract elements before the page has loaded\n",
    "\n",
    "    driver.get(url)\n",
    "    delay = 1\n",
    "    try:\n",
    "        wait = WebDriverWait(driver, delay)\n",
    "        wait.until(EC.presence_of_element_located((By.CLASS_NAME,\n",
    "                                                   \"index-a51e56ea\"))) # CSS_SELECTOR\n",
    "        print(\"Page is ready\")\n",
    "    except TimeoutException:\n",
    "        print(\"Loading took too muc time!\")\n",
    "\n",
    "\n",
    "load_page(url)\n",
    "```"
   ]
  },
  {
   "cell_type": "code",
   "execution_count": 52,
   "metadata": {},
   "outputs": [
    {
     "ename": "ModuleNotFoundError",
     "evalue": "No module named 'selenium'",
     "output_type": "error",
     "traceback": [
      "\u001b[0;31m---------------------------------------------------------------------------\u001b[0m",
      "\u001b[0;31mModuleNotFoundError\u001b[0m                       Traceback (most recent call last)",
      "\u001b[0;32m<ipython-input-52-a3fbb374275d>\u001b[0m in \u001b[0;36m<module>\u001b[0;34m()\u001b[0m\n\u001b[1;32m      1\u001b[0m \u001b[0;31m# What you should have thus far..\u001b[0m\u001b[0;34m\u001b[0m\u001b[0;34m\u001b[0m\u001b[0m\n\u001b[1;32m      2\u001b[0m \u001b[0;34m\u001b[0m\u001b[0m\n\u001b[0;32m----> 3\u001b[0;31m \u001b[0;32mfrom\u001b[0m \u001b[0mselenium\u001b[0m \u001b[0;32mimport\u001b[0m \u001b[0mwebdriver\u001b[0m\u001b[0;34m\u001b[0m\u001b[0m\n\u001b[0m\u001b[1;32m      4\u001b[0m \u001b[0;32mfrom\u001b[0m \u001b[0mselenium\u001b[0m\u001b[0;34m.\u001b[0m\u001b[0mwebdriver\u001b[0m\u001b[0;34m.\u001b[0m\u001b[0msupport\u001b[0m\u001b[0;34m.\u001b[0m\u001b[0mui\u001b[0m \u001b[0;32mimport\u001b[0m \u001b[0mWebDriverWait\u001b[0m\u001b[0;34m\u001b[0m\u001b[0m\n\u001b[1;32m      5\u001b[0m \u001b[0;32mfrom\u001b[0m \u001b[0mselenium\u001b[0m\u001b[0;34m.\u001b[0m\u001b[0mwebdriver\u001b[0m\u001b[0;34m.\u001b[0m\u001b[0msupport\u001b[0m \u001b[0;32mimport\u001b[0m \u001b[0mexpected_conditions\u001b[0m \u001b[0;32mas\u001b[0m \u001b[0mEC\u001b[0m\u001b[0;34m\u001b[0m\u001b[0m\n",
      "\u001b[0;31mModuleNotFoundError\u001b[0m: No module named 'selenium'"
     ]
    }
   ],
   "source": [
    "# What you should have thus far..  \n",
    "\n",
    "from selenium import webdriver\n",
    "from selenium.webdriver.support.ui import WebDriverWait\n",
    "from selenium.webdriver.support import expected_conditions as EC\n",
    "from selenium.webdriver.common.by import By\n",
    "from selenium.common.exceptions import TimeoutException\n",
    "\n",
    "# Firefox\n",
    "# driver = webdriver.Firefox()\n",
    "# driver.get(\"http:google.com\")\n",
    "\n",
    "# If exception, Webdriver needs location of chromedriver and browser\n",
    "options = webdriver.ChromeOptions()\n",
    "options.binary_location = \"/Applications/GoogleChrome.app/Contents/MacOS/Google Chrome\"\n",
    "chromedriver = \"/Users/sjung/Downloads/chromedriver\"\n",
    "driver = webdriver.Chrome(chromedriver, chrome_options=options)\n",
    "# driver.get(\"http:google.com\")\n",
    "\n",
    "\n",
    "def build_url(search_start_date, search_end_date, genre=None):\n",
    "    url = f'https://www.bandsintown.com/c/seoul-korea-republic-of?came_from=253&date={search_start_date}T14%3A00%3A00%2C{search_end_date}T02%3A00%3A00&date_filter=Next+Week&genre_filter={genre}'\n",
    "    return url\n",
    "\n",
    "\n",
    "def load_page(url):\n",
    "    # making sure the elements that we're after are loaded\n",
    "    # don't want to extract elements before the page has loaded\n",
    "\n",
    "    driver.get(url)\n",
    "    delay = 1\n",
    "    try:\n",
    "        wait = WebDriverWait(driver, delay)\n",
    "        wait.until(EC.presence_of_element_located((By.CLASS_NAME,\n",
    "                                                   \"index-a51e56ea\"))) # CSS_SELECTOR\n",
    "        print(\"Page is ready\")\n",
    "    except TimeoutException:\n",
    "        print(\"Loading took too muc time!\")\n",
    "\n",
    "\n",
    "def main():\n",
    "    url = build_url('2018-05-23', '2018-06-12')\n",
    "    load_page(url)\n",
    "    # quit_browser()\n",
    "\n",
    "\n",
    "if __name__ == '__main__':\n",
    "    main()"
   ]
  },
  {
   "cell_type": "markdown",
   "metadata": {},
   "source": [
    "#### Extract desired information using Selenium\n",
    "\n",
    "```python\n",
    "def get_event_artist():\n",
    "    events = driver.find_elements_by_class_name(\"event-9d0dee19\")\n",
    "    event_list = [e.text for e in events]\n",
    "    # for event in events:\n",
    "    #     print(event.text)\n",
    "    print(\"event list: \", event_list)\n",
    "\n",
    "```"
   ]
  },
  {
   "cell_type": "markdown",
   "metadata": {},
   "source": [
    "#### Extract desired information using BeautifulSoup4\n",
    "\n",
    "```python\n",
    "def get_event_date(url):\n",
    "    event_dates = []\n",
    "    html = urllib.request.urlopen(url)\n",
    "    # soup = BeautifulSoup(html, \"lxml\")\n",
    "    soup = BeautifulSoup(html, \"html.parser\")\n",
    "    # soup = BeautifulSoup(html)\n",
    "    for date in soup.findAll(\"h2\", {\"class\": \"event-9d0dee19\"}):\n",
    "        print(date.findNext('div').contents)\n",
    "        event_dates.append(date.findNext('div').contents)\n",
    "    return event_dates\n",
    "\n",
    "```"
   ]
  },
  {
   "cell_type": "markdown",
   "metadata": {},
   "source": [
    "#### Update `main()` with:\n",
    "\n",
    "```python    \n",
    "get_event_artist()\n",
    "get_event_date(url)\n",
    "```"
   ]
  },
  {
   "cell_type": "markdown",
   "metadata": {},
   "source": [
    "### Sending Mail programmatically \n",
    "\n",
    "\n",
    "\n",
    "```python\n",
    "import smtplib\n",
    "import config\n",
    "\n",
    "\n",
    "def send_email(subject, msg):\n",
    "    try:\n",
    "        server = smtplib.SMTP('smtp.gmail.com:587')\n",
    "        server.ehlo()\n",
    "        server.starttls()\n",
    "        server.login(config.EMAIL_ADDRESS, config.PASSWORD)\n",
    "        message = 'Subject: {}\\n\\n{}'.format(subject, msg)\n",
    "        server.sendmail(config.EMAIL_ADDRESS, config.EMAIL_ADDRESS, message)\n",
    "        server.quit()\n",
    "        print(\"Success: Email sent!\")\n",
    "    except Exception as e:\n",
    "        print(e)\n",
    "\n",
    "\n",
    "# subject = \"test\"\n",
    "# msg = \"tesa\"\n",
    "\n",
    "# send_email(subject, msg)\n",
    "\n",
    "```\n",
    "\n",
    "#### After coding the above, create a separate config.py to hold your email configurations\n",
    "#### If sending emails programmatically, Gmail requires that you enable \"lesssecureapps\" access to your gmail account:\n",
    "https://myaccount.google.com/lesssecureapps"
   ]
  },
  {
   "cell_type": "code",
   "execution_count": 55,
   "metadata": {},
   "outputs": [
    {
     "data": {
      "text/plain": [
       "\"\\nclass EventScraper():\\n    def __init__(self, starting_date, genre, ending_date):\\n        self.ending_date = ending_date\\n        self.genre = genre\\n        self.url = f'https://www.bandsintown.com/c/seoul-korea-republic-of?came_from=253&date={search_start_date}T14%3A00%3A00%2C{search_end_date}T02%3A00%3A00&date_filter=Next+Week&genre_filter={genre}'    \\n        self.driver = webdriver.Firefox()\\n        self.delay = 3\\n\\n    def get...\\n\""
      ]
     },
     "execution_count": 55,
     "metadata": {},
     "output_type": "execute_result"
    }
   ],
   "source": [
    "\"\"\"TO-DO\n",
    "\n",
    "Import `send_email()` into main.py and send email with extracted information  \n",
    "Accept user input and turn into a CLI app (`input()`, `sys.argv`)  \n",
    "Define genre dict. and accept user input to dynamically change URL string  \n",
    "Make modular (define a Class)  \n",
    "\"\"\"\n",
    "\n",
    "# from mail import send_mail...\n",
    "\n",
    "# starting_date = input(\"Which date would you like to search from..?)...\n",
    "# if sys.argv[1] == \"help\":\n",
    "#    ...\n",
    "\n",
    "# genres = {\n",
    "#     'R&B/Soul': 'R%26B%2FSoul',\n",
    "#     'Hip Hop': 'Hip+Hop'\n",
    "# }\n",
    "\n",
    "\"\"\"\n",
    "class EventScraper():\n",
    "    def __init__(self, starting_date, genre, ending_date):\n",
    "        self.ending_date = ending_date\n",
    "        self.genre = genre\n",
    "        self.url = f'https://www.bandsintown.com/c/seoul-korea-republic-of?came_from=253&date={search_start_date}T14%3A00%3A00%2C{search_end_date}T02%3A00%3A00&date_filter=Next+Week&genre_filter={genre}'    \n",
    "        self.driver = webdriver.Firefox()\n",
    "        self.delay = 3\n",
    "\n",
    "    def get...\n",
    "\"\"\""
   ]
  },
  {
   "cell_type": "markdown",
   "metadata": {},
   "source": [
    "# 👈 👆👉 👇🖕📴 See you guys next time! 👈 👆👉 👇🖕📴"
   ]
  },
  {
   "cell_type": "code",
   "execution_count": null,
   "metadata": {
    "collapsed": true
   },
   "outputs": [],
   "source": []
  }
 ],
 "metadata": {
  "kernelspec": {
   "display_name": "Python 3",
   "language": "python",
   "name": "python3"
  },
  "language_info": {
   "codemirror_mode": {
    "name": "ipython",
    "version": 3
   },
   "file_extension": ".py",
   "mimetype": "text/x-python",
   "name": "python",
   "nbconvert_exporter": "python",
   "pygments_lexer": "ipython3",
   "version": "3.6.4"
  }
 },
 "nbformat": 4,
 "nbformat_minor": 2
}
