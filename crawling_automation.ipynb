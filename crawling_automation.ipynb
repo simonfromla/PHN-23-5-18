{
 "cells": [
  {
   "cell_type": "markdown",
   "metadata": {},
   "source": [
    "`pip install selenium`\n",
    "`pip install bs4`\n",
    "\n",
    "geckodriver for firefox\n",
    "https://stackoverflow.com/questions/40208051/selenium-using-python-geckodriver-executable-needs-to-be-in-path\n",
    "\n",
    "chromedriver for chrome\n",
    "https://sites.google.com/a/chromium.org/chromedriver/downloads\n",
    "If error:\n",
    "https://stackoverflow.com/questions/46026987/selenium-gives-selenium-common-exceptions-webdriverexception-message-unknown\n",
    "\n",
    "```python\n",
    "from selenium import webdriver\n",
    "\n",
    "# Firefox\n",
    "driver = webdriver.Firefox()\n",
    "driver.get(\"http:google.com\")\n",
    "```\n",
    "\n",
    "```python\n",
    "from selenium import webdriver\n",
    "\n",
    "options = webdriver.ChromeOptions()\n",
    "options.binary_location = \"/Applications/GoogleChrome.app/Contents/MacOS/Google Chrome\"\n",
    "chromedriver = \"/Users/sjung/Downloads/chromedriver\"\n",
    "driver = webdriver.Chrome(chromedriver, chrome_options=options)\n",
    "driver.get(\"http:google.com\")\n",
    "\n",
    "```\n",
    "\n",
    "Python 3.6 users on MacOS:  \n",
    "Getting a `urllib.error.URLError: <urlopen error [SSL: CERTIFICATE_VERIFY_FAILED] certificate verify failed (_ssl.c:777)>` error related to `html = urllib.request.urlopen(url)` ?  \n",
    "https://stackoverflow.com/questions/27835619/urllib-and-ssl-certificate-verify-failed-error/42334357#42334357  \n",
    "\n",
    "https://stackoverflow.com/questions/24398302/bs4-featurenotfound-couldnt-find-a-tree-builder-with-the-features-you-requeste\n",
    "\n"
   ]
  },
  {
   "cell_type": "code",
   "execution_count": null,
   "metadata": {
    "collapsed": true
   },
   "outputs": [],
   "source": []
  }
 ],
 "metadata": {
  "kernelspec": {
   "display_name": "Python 3",
   "language": "python",
   "name": "python3"
  },
  "language_info": {
   "codemirror_mode": {
    "name": "ipython",
    "version": 3
   },
   "file_extension": ".py",
   "mimetype": "text/x-python",
   "name": "python",
   "nbconvert_exporter": "python",
   "pygments_lexer": "ipython3",
   "version": "3.6.4"
  }
 },
 "nbformat": 4,
 "nbformat_minor": 2
}
